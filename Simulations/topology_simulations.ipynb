{
 "cells": [
  {
   "cell_type": "markdown",
   "metadata": {},
   "source": [
    "## Adicionando o path para utilizar a bibliotecas necessárias"
   ]
  },
  {
   "cell_type": "code",
   "execution_count": 1,
   "metadata": {},
   "outputs": [],
   "source": [
    "from sys import path\n",
    "dir_path: str = %pwd\n",
    "dir_path = dir_path.replace(\"/Simulations\", \"\")\n",
    "\n",
    "path.append(dir_path)"
   ]
  },
  {
   "cell_type": "markdown",
   "metadata": {},
   "source": [
    "## Fazendo import das dependências"
   ]
  },
  {
   "cell_type": "code",
   "execution_count": 2,
   "metadata": {},
   "outputs": [],
   "source": [
    "from BHA_functions import asyncSimulations_Linux\n",
    "from BHA_functions import DataCollector, DataGroup\n",
    "from BHA_functions import GraphicGenerator\n",
    "from datetime import datetime"
   ]
  },
  {
   "cell_type": "markdown",
   "metadata": {},
   "source": [
    "## Definindo as constantes das simulações"
   ]
  },
  {
   "cell_type": "code",
   "execution_count": 3,
   "metadata": {},
   "outputs": [],
   "source": [
    "PATH: str = f'{dir_path}/Simulations_Data/topology_simulations'\n",
    "GRAPHICS_PATH: str = f\"{dir_path}/Graphics/topology_simulations/\"\n",
    "\n",
    "CORES: int = 12\n",
    "RUNS_PER_POINT: int = 100\n",
    "\n",
    "TARGET: tuple[bool, bool] = (True, False)\n",
    "\n",
    "NETWORK_PROB: float = 0.8\n",
    "BHA_PROB: float = 0.4\n",
    "BHA_PROP: float = 0.2\n",
    "\n",
    "TOPOLOGIES: tuple[str, str, str] = ('Grade', 'Ba', 'Er')\n",
    "TOPOLOGY_PARAMS: tuple[float, float, float] = (0.1, 0.3, 0.5)\n",
    "\n",
    "PASS_OF_NODE: int = 12\n",
    "NUMBER_OF_NODES: tuple[int,...] = tuple([i for i in range(12, 108, PASS_OF_NODE)])\n",
    "GRADE_NODES: dict = {\n",
    "    12:(3, 4),\n",
    "    24:(4, 6),\n",
    "    36:(6, 6),\n",
    "    48:(6, 8),\n",
    "    60:(6, 10),\n",
    "    72:(8, 9),\n",
    "    84:(7, 12),\n",
    "    96:(8, 12)\n",
    "}\n",
    "\n",
    "GRAPHIC_POINTS: int = len(NUMBER_OF_NODES)"
   ]
  },
  {
   "cell_type": "markdown",
   "metadata": {},
   "source": [
    "## Criando os Parâmetros das simulações"
   ]
  },
  {
   "cell_type": "code",
   "execution_count": 4,
   "metadata": {},
   "outputs": [],
   "source": [
    "# Default params\n",
    "simulations_params: dict = {\n",
    "            'runs':RUNS_PER_POINT,\n",
    "            'topology':TOPOLOGIES[0],\n",
    "            'number_nodes':20,\n",
    "            'topology_args':(4,3),\n",
    "            'entanglements_replanished':10,\n",
    "            'requests':100,\n",
    "            'attempts_per_request':2,\n",
    "            'network_prob':NETWORK_PROB,\n",
    "            'num_black_holes':0,\n",
    "            'black_hole_prob':BHA_PROB,\n",
    "            'black_hole_target':TARGET[0]\n",
    "        }"
   ]
  },
  {
   "cell_type": "markdown",
   "metadata": {},
   "source": [
    "## Rodando a simulação sem Black Hole em todas as topologias"
   ]
  },
  {
   "cell_type": "code",
   "execution_count": null,
   "metadata": {},
   "outputs": [],
   "source": [
    "for topology in TOPOLOGIES:\n",
    "    simulations_params['topology'] = topology\n",
    "\n",
    "    for indexgroup, topology_param in enumerate(TOPOLOGY_PARAMS):\n",
    "        if topology == 'Grade' and indexgroup > 0: # Grade topology has no other parameters\n",
    "            continue\n",
    "\n",
    "        for point, number_of_nodes in enumerate(NUMBER_OF_NODES):\n",
    "            simulations_params['number_nodes'] = number_of_nodes\n",
    "\n",
    "            if topology == 'Grade':\n",
    "                simulations_params['topology_args'] = GRADE_NODES[number_of_nodes]\n",
    "            elif topology == 'Ba':\n",
    "                simulations_params['topology_args'] = (int(topology_param*10),)\n",
    "            elif topology == 'Er':\n",
    "                simulations_params['topology_args'] = (topology_param,)\n",
    "\n",
    "            start: datetime = datetime.now()\n",
    "            print(f\"Topologia {topology} no Grupo {indexgroup} no ponto: {point}\")\n",
    "            # Runing no BHA simulation\n",
    "            default_simulation: DataCollector = asyncSimulations_Linux(cores=CORES, **simulations_params)\n",
    "            if topology == \"Grade\":\n",
    "                default_simulation.save(file_name=f'{PATH}/Default_Network/{topology}/point{point}')\n",
    "            else:\n",
    "                default_simulation.save(file_name=f'{PATH}/Default_Network/{topology}/{int(topology_param*10)}param/point{point}')\n",
    "            print(f\"Terminou no tempo de: {datetime.now()-start}\")\n",
    "            print('-='*50)\n"
   ]
  },
  {
   "cell_type": "markdown",
   "metadata": {},
   "source": [
    "## Realizando todas as simulações com Black Holes"
   ]
  },
  {
   "cell_type": "code",
   "execution_count": null,
   "metadata": {},
   "outputs": [],
   "source": [
    "counter = 0\n",
    "# Run all topologies and update your parameter\n",
    "for topology in TOPOLOGIES:\n",
    "    simulations_params['topology'] = topology\n",
    "    \n",
    "    # Run all targets (True, False) and update your parameter\n",
    "    for target in TARGET:\n",
    "        simulations_params['black_hole_target'] = target\n",
    "        \n",
    "        # Run all topology parameters (0.1, 0.3, 0.5) and updating your parameters\n",
    "        for indexgroup, topology_param in enumerate(TOPOLOGY_PARAMS):\n",
    "            \n",
    "            # Grade topology won't change your params, so no need run more than once simulation per target\n",
    "            if topology == \"Grade\" and indexgroup > 0:\n",
    "                continue\n",
    "\n",
    "            # Updating parameters of topology (0.1, 0. 3 or 0.5) in prob_edge_creation and (1, 3 or 5) in edges_to_attach\n",
    "            if topology == 'Er':\n",
    "                simulations_params['topology_args'] = (topology_param,)\n",
    "\n",
    "            elif topology == 'Ba':\n",
    "                simulations_params['topology_args'] = (int(topology_param * 10),)\n",
    "\n",
    "            # Run all points and update your parameter\n",
    "            for point, number_of_nodes in enumerate(NUMBER_OF_NODES):\n",
    "                start: datetime = datetime.now() # Debug: start timer to BenchMark\n",
    "                \n",
    "                simulations_params['number_nodes'] = number_of_nodes\n",
    "\n",
    "                # Update the topology parameters, because number_nodes don't affect this topology\n",
    "                if topology == 'Grade':\n",
    "                    simulations_params['topology_args'] = GRADE_NODES[number_of_nodes]\n",
    "\n",
    "                    \n",
    "                # Updating umber of nodes of simulation\n",
    "                simulations_params['num_black_holes'] = int(number_of_nodes * BHA_PROP)\n",
    "\n",
    "                # Running simulation\n",
    "                simulations_dc: DataCollector = asyncSimulations_Linux(cores=CORES, **simulations_params)\n",
    "\n",
    "                # Saving CSV file\n",
    "                if topology != \"Grade\":\n",
    "                    simulations_dc.save(file_name=f'{PATH}/BHA_Network/{topology}/Target-{target}/{int(topology_param*10)}param/point{point}')\n",
    "                else:\n",
    "                    simulations_dc.save(file_name=f'{PATH}/BHA_Network/{topology}/Target-{target}/point{point}')\n",
    "\n",
    "                counter += 1\n",
    "                # BenchMark\n",
    "                print(f\"As {simulations_params['runs']} simulações da topologia {topology} finalizaram no tempo de: {datetime.now()-start}\")\n",
    "                print(f\"Já rodaram {counter} pontos de 112\")\n",
    "                print('-='*50)"
   ]
  },
  {
   "cell_type": "markdown",
   "metadata": {},
   "source": [
    "## Coletando os dados diretamente dos CSVs de cada simulação"
   ]
  },
  {
   "cell_type": "code",
   "execution_count": 6,
   "metadata": {},
   "outputs": [],
   "source": [
    "default_networks: dict[str, DataGroup] = dict()\n",
    "for topology in TOPOLOGIES:\n",
    "    temp_dataGroup: DataGroup = DataGroup()\n",
    "\n",
    "    for indexgroup, topology_param in enumerate(TOPOLOGY_PARAMS):\n",
    "        if topology == \"Grade\" and indexgroup > 0: # Grade topology has no other parameters\n",
    "            continue\n",
    "\n",
    "        for point in range(0, GRAPHIC_POINTS):\n",
    "            default_network: DataCollector = DataCollector()\n",
    "            if topology != \"Grade\":\n",
    "                default_network.get_DataFrame_csv(f'{PATH}/Default_Network/{topology}/{int(topology_param*10)}param/point{point}.csv')\n",
    "            else:\n",
    "                default_network.get_DataFrame_csv(f'{PATH}/Default_Network/{topology}/point{point}.csv')\n",
    "\n",
    "            temp_dataGroup.add_Data(value=default_network, indexgroup=indexgroup)\n",
    "\n",
    "    default_networks[topology] = temp_dataGroup\n",
    "\n",
    "# Create DataGroups for all params and Topologys\n",
    "dg_grade_target_off: DataGroup = DataGroup()\n",
    "dg_grade_target_on: DataGroup = DataGroup()\n",
    "dg_ba_target_off: DataGroup = DataGroup()\n",
    "dg_ba_target_on: DataGroup = DataGroup()\n",
    "dg_er_target_off: DataGroup = DataGroup()\n",
    "dg_er_target_on: DataGroup = DataGroup()\n",
    "\n",
    "# Puting all DataGroups in a dict\n",
    "dg_dict: dict = {\n",
    "    'Grade':{True:dg_grade_target_on, False:dg_grade_target_off},\n",
    "    'Ba':{True:dg_ba_target_on, False:dg_ba_target_off},\n",
    "    'Er':{True:dg_er_target_on, False:dg_er_target_off}\n",
    "}\n",
    "\n",
    "# Collecting data of all topologies, except Grade topology\n",
    "# The DataGroup and dict will look like this\n",
    "# dg_dict = {\n",
    "# 'Grade': {True:[(D1,..., Dnpoints)], False: [(D1,..., Dnpoints)]}, \n",
    "# 'Ba': {True:[(D1,..., Dnpoints), (D1,..., Dnpoints), (D1,..., Dnpoints)], False:[(D1,..., Dnpoints), (D1,..., Dnpoints), (D1,..., Dnpoints)]},\n",
    "# 'Er': {True:[(D1,..., Dnpoints), (D1,..., Dnpoints), (D1,..., Dnpoints)], False:[(D1,..., Dnpoints), (D1,..., Dnpoints), (D1,..., Dnpoints)]}\n",
    "# }\n",
    "# D1 and Dnpoints are DataCollectors with all data of current point\n",
    "#\n",
    "# {Topology: { True: [ (     D1, ..., Dn), ..., ()], False:[ (),..., ()]}, ...}\n",
    "# ↑          ↑         ↑     ↑\n",
    "# ↑          ↑         ↑     DataCollector per point\n",
    "# ↑          ↑        Param of simulation (0.1, 0.3, 0.5)\n",
    "# ↑         Dict of tagerts on (True) or off (False)\n",
    "# Dict of topology\n",
    "\n",
    "for topology in TOPOLOGIES:\n",
    "    if topology == \"Grade\":\n",
    "        continue\n",
    "    for target in TARGET:\n",
    "        for indexgroup, topology_param in enumerate(TOPOLOGY_PARAMS):\n",
    "            for point in range(0, GRAPHIC_POINTS):\n",
    "                temp_dc: DataCollector = DataCollector()\n",
    "                temp_dc.get_DataFrame_csv(f'{PATH}/BHA_Network/{topology}/Target-{target}/{int(topology_param*10)}param/point{point}.csv')\n",
    "                \n",
    "                dg_dict[topology][target].add_Data(value=temp_dc, indexgroup=indexgroup)\n",
    "\n",
    "# Collecting only data of Grade topology        \n",
    "for target in TARGET:\n",
    "    dg_dict['Grade'][target].add_Group(value=tuple())\n",
    "    for point in range(0, GRAPHIC_POINTS):\n",
    "        temp_dc: DataCollector = DataCollector()\n",
    "        temp_dc.get_DataFrame_csv(f'{PATH}/BHA_Network/Grade/Target-{target}/point{point}.csv')\n",
    "\n",
    "        dg_dict[\"Grade\"][target].add_Data(value=temp_dc, indexgroup=0)\n"
   ]
  },
  {
   "cell_type": "markdown",
   "metadata": {},
   "source": [
    "## Utilizando o polimorfismo para alterar a função da classe GraphicGenerator"
   ]
  },
  {
   "cell_type": "code",
   "execution_count": 7,
   "metadata": {},
   "outputs": [],
   "source": [
    "import matplotlib.pyplot as plt     # Imports to gen graphics\n",
    "import numpy as np                  # Needed to create array\n",
    "\n",
    "class GraphicGen(GraphicGenerator):\n",
    "    def __init__(self):\n",
    "        super().__init__()\n",
    "\n",
    "    def add_on_plot(\n",
    "        self, \n",
    "        plot_label: str, \n",
    "        color: str,\n",
    "        x_column: tuple[int, int], \n",
    "        y_column_name: str, \n",
    "        y_standard_deviation: bool, \n",
    "        dc: tuple[DataCollector],\n",
    "        default_simulations: tuple[DataCollector] | None = None) -> None:\n",
    "        \"\"\"\n",
    "        Will add data on plot selected\n",
    "\n",
    "        Args:\n",
    "            plot_label (required): Name of plot\n",
    "            color: Color of the plot\n",
    "            x_column (required): Tuple with initial value of x, step\n",
    "            y_column_name (required): Name of y column on DataCollector\n",
    "            y_standard_deviation (optional): If True, the standard deviation will be used\n",
    "            dc (required): Tuple with all DataCollectors\n",
    "            default_simulations (optional): Pass the network without black holes to compare, if None don't affect the result\n",
    "        \"\"\"\n",
    "        y_points: list = []\n",
    "        if dc:\n",
    "            self.dataCollectors: tuple[DataCollector] = dc\n",
    "\n",
    "        temp_error_bar: list = []\n",
    "\n",
    "        if default_simulations == None:\n",
    "            default_simulations_list: list = [0 for i in range(0, len(dc))]\n",
    "        else:\n",
    "            default_simulations_list: list = list()\n",
    "            for temp_datacollector in default_simulations:\n",
    "                result: int = temp_datacollector.arithmetic_Mean(y_column_name)[y_column_name]\n",
    "                default_simulations_list.append(result)\n",
    "                \n",
    "        for dataCollector, default_arithmetic_mean in zip(self.dataCollectors, default_simulations_list):\n",
    "            dataCollector.standard_Deviation(y_column_name)\n",
    "            arithmetic_mean: float = dataCollector.arithmetic_Mean(y_column_name)[y_column_name]\n",
    "            y_points.append(default_arithmetic_mean - arithmetic_mean)\n",
    "\n",
    "\n",
    "            temp_error_bar.append(dataCollector.standard_deviations[y_column_name])\n",
    "\n",
    "        x_points: list = []\n",
    "        temp_x: int = x_column[0]\n",
    "        for i in range(0, len(y_points)):\n",
    "            x_points.append(temp_x)\n",
    "            temp_x += x_column[1]\n",
    "\n",
    "        x_points_array: np.ndarray = np.array(x_points)\n",
    "        y_points_array: np.ndarray = np.array(y_points)\n",
    "\n",
    "        plt.plot(x_points_array, y_points_array, label=plot_label, color=color, marker='.')\n",
    "\n",
    "        if y_standard_deviation:\n",
    "            error_bar: np.ndarray = np.array(temp_error_bar)\n",
    "            plt.errorbar(x_points, y_points, yerr=error_bar, fmt='.', color=color)"
   ]
  },
  {
   "cell_type": "markdown",
   "metadata": {},
   "source": [
    "## Criando uma função genérica para plotar os gráficos"
   ]
  },
  {
   "cell_type": "code",
   "execution_count": 8,
   "metadata": {},
   "outputs": [],
   "source": [
    "def plotGraphic(\n",
    "        dataGroup: DataGroup,\n",
    "        default_simulations: dict[str, DataGroup], \n",
    "        topology: str,\n",
    "        pass_of_node: int,\n",
    "        topology_params: tuple[float],\n",
    "        y_column_name: str, \n",
    "        title: str, \n",
    "        x_label: str, \n",
    "        y_label: str,\n",
    "        pdf_file: str,\n",
    "        grid: bool) -> None:\n",
    "    \"\"\"\n",
    "    Will show the simulations graph\n",
    "\n",
    "    Args:\n",
    "        dataGroup (required): DataGroup with all DataCollectors\n",
    "        default_diff (required): Pass the network without black holes to compare, if None don't affect the result\n",
    "        topology (required): String with name of the selected topology\n",
    "        pass_of_node (required): Variation of nodes per point\n",
    "        topology_params (required): Tuple with all parameter of each plot\n",
    "        y_column_name (required): Name of column data\n",
    "        title (required): Title of graph\n",
    "        x_label (required): X axis label\n",
    "        y_label (required): Y axis label\n",
    "        pdf_file (optional): Name of pdf file, if don't want save as pdf, pdf_file = \"\"\n",
    "        grid (optional): Add a grid on the plot if is True\n",
    "    \"\"\"\n",
    "    \n",
    "    graphicGen: GraphicGen = GraphicGen()\n",
    "\n",
    "    colors: tuple[str, str, str] = (\"red\", \"darkorange\", \"gold\")\n",
    "\n",
    "    for pos, datacollectors in enumerate(dataGroup):\n",
    "\n",
    "        if topology == 'Ba':\n",
    "            plot_label: str = f\"m={int(topology_params[pos] * 10)}\"\n",
    "        elif topology == 'Er':\n",
    "            plot_label: str = f\"p={topology_params[pos]}\"\n",
    "        else:\n",
    "            plot_label: str = 'Grade'\n",
    "\n",
    "\n",
    "        default_sim: tuple[DataCollector] = default_simulations[topology][pos] # access a Group in the DataGroup\n",
    "\n",
    "\n",
    "        graphicGen.add_on_plot(\n",
    "            plot_label=plot_label,\n",
    "            color=colors[pos],\n",
    "            x_column=(12, pass_of_node), \n",
    "            y_column_name=y_column_name, \n",
    "            y_standard_deviation=False,\n",
    "            dc=datacollectors,\n",
    "            default_simulations=default_sim)\n",
    "\n",
    "    graphicGen.show_plot(\n",
    "        title=title,\n",
    "        x_label=x_label, \n",
    "        y_label=y_label,\n",
    "        pdf_file=pdf_file,\n",
    "        grid=grid)"
   ]
  },
  {
   "cell_type": "markdown",
   "metadata": {},
   "source": [
    "## Gerando o gráfico da Topologia de Grade sem alvo"
   ]
  },
  {
   "cell_type": "code",
   "execution_count": null,
   "metadata": {},
   "outputs": [],
   "source": [
    "plotGraphic(\n",
    "    dataGroup=dg_dict['Grade'][False],\n",
    "    default_simulations=default_networks,\n",
    "    topology='Grade',\n",
    "    pass_of_node=PASS_OF_NODE,\n",
    "    topology_params=TOPOLOGY_PARAMS,\n",
    "    y_column_name=\"Success Tax\",\n",
    "    title=\"\",\n",
    "    x_label='Número de nós',\n",
    "    y_label='Diferença na Taxa de Sucesso',\n",
    "    pdf_file=f\"{GRAPHICS_PATH}Taxa_Sucesso_Grade_sem_alvo.pdf\",\n",
    "    grid=True\n",
    "    )"
   ]
  },
  {
   "cell_type": "markdown",
   "metadata": {},
   "source": [
    "## Gerando o gráfico da Topologia de Grade com alvo"
   ]
  },
  {
   "cell_type": "code",
   "execution_count": null,
   "metadata": {},
   "outputs": [],
   "source": [
    "plotGraphic(\n",
    "    dataGroup=dg_dict['Grade'][True],\n",
    "    default_simulations=default_networks,\n",
    "    topology='Grade',\n",
    "    pass_of_node=PASS_OF_NODE,\n",
    "    topology_params=TOPOLOGY_PARAMS,\n",
    "    y_column_name=\"Success Tax\",\n",
    "    title=\"\",\n",
    "    x_label='Número de nós',\n",
    "    y_label='Diferença na Taxa de Sucesso',\n",
    "    pdf_file=f\"{GRAPHICS_PATH}Taxa_Sucesso_Grade_com_alvo.pdf\",\n",
    "    grid=True\n",
    "    )"
   ]
  },
  {
   "cell_type": "markdown",
   "metadata": {},
   "source": [
    "## Gerando o Gráfico da Topologia Barabasi-Albert sem alvo"
   ]
  },
  {
   "cell_type": "code",
   "execution_count": null,
   "metadata": {},
   "outputs": [],
   "source": [
    "plotGraphic(\n",
    "    dataGroup=dg_dict['Ba'][False],\n",
    "    default_simulations=default_networks,\n",
    "    topology='Ba',\n",
    "    pass_of_node=PASS_OF_NODE,\n",
    "    topology_params=TOPOLOGY_PARAMS,\n",
    "    y_column_name=\"Success Tax\",\n",
    "    title=\"\",\n",
    "    x_label='Número de nós',\n",
    "    y_label='Diferença na Taxa de Sucesso',\n",
    "    pdf_file=f\"{GRAPHICS_PATH}Taxa_Sucesso_Barabasi-Albert_sem_alvo.pdf\",\n",
    "    grid=True\n",
    ")"
   ]
  },
  {
   "cell_type": "markdown",
   "metadata": {},
   "source": [
    "## Gerando o Gráfico da Topologia Barabasi-Albert com alvo"
   ]
  },
  {
   "cell_type": "code",
   "execution_count": null,
   "metadata": {},
   "outputs": [],
   "source": [
    "plotGraphic(\n",
    "    dataGroup=dg_dict['Ba'][True],\n",
    "    default_simulations=default_networks,\n",
    "    topology='Ba',\n",
    "    pass_of_node=PASS_OF_NODE,\n",
    "    topology_params=TOPOLOGY_PARAMS,\n",
    "    y_column_name=\"Success Tax\",\n",
    "    title=\"\",\n",
    "    x_label='Número de nós',\n",
    "    y_label='Diferença na Taxa de Sucesso',\n",
    "    pdf_file=f\"{GRAPHICS_PATH}Taxa_Sucesso_Barabasi-Albert_com_alvo.pdf\",\n",
    "    grid=True\n",
    ")"
   ]
  },
  {
   "cell_type": "markdown",
   "metadata": {},
   "source": [
    "## Gerando o Gráfico da Topologia Erdos Renyi sem alvo"
   ]
  },
  {
   "cell_type": "code",
   "execution_count": null,
   "metadata": {},
   "outputs": [],
   "source": [
    "plotGraphic(\n",
    "    dataGroup=dg_dict['Er'][False],\n",
    "    default_simulations=default_networks,\n",
    "    topology='Er',\n",
    "    pass_of_node=PASS_OF_NODE,\n",
    "    topology_params=TOPOLOGY_PARAMS,\n",
    "    y_column_name=\"Success Tax\",\n",
    "    title=\"\",\n",
    "    x_label='Número de nós',\n",
    "    y_label='Diferença na Taxa de Sucesso',\n",
    "    pdf_file=f\"{GRAPHICS_PATH}Taxa_Sucesso_Erdos-Renyi_sem_alvo.pdf\",\n",
    "    grid=True\n",
    ")"
   ]
  },
  {
   "cell_type": "markdown",
   "metadata": {},
   "source": [
    "## Gerando o Gráfico da Topologia Erdos Renyi com alvo"
   ]
  },
  {
   "cell_type": "code",
   "execution_count": null,
   "metadata": {},
   "outputs": [],
   "source": [
    "plotGraphic(\n",
    "    dataGroup=dg_dict['Er'][True],\n",
    "    default_simulations=default_networks,\n",
    "    topology='Er',\n",
    "    pass_of_node=PASS_OF_NODE,\n",
    "    topology_params=TOPOLOGY_PARAMS,\n",
    "    y_column_name=\"Success Tax\",\n",
    "    title=\"\",\n",
    "    x_label='Número de nós',\n",
    "    y_label='Diferença na Taxa de Sucesso',\n",
    "    pdf_file=f\"{GRAPHICS_PATH}Taxa_Sucesso_Erdos-Renyi_com_alvo.pdf\",\n",
    "    grid=True\n",
    ")"
   ]
  }
 ],
 "metadata": {
  "kernelspec": {
   "display_name": ".venv",
   "language": "python",
   "name": "python3"
  },
  "language_info": {
   "codemirror_mode": {
    "name": "ipython",
    "version": 3
   },
   "file_extension": ".py",
   "mimetype": "text/x-python",
   "name": "python",
   "nbconvert_exporter": "python",
   "pygments_lexer": "ipython3",
   "version": "3.10.12"
  }
 },
 "nbformat": 4,
 "nbformat_minor": 4
}
